{
 "cells": [
  {
   "cell_type": "code",
   "execution_count": null,
   "id": "initial_id",
   "metadata": {},
   "outputs": [],
   "source": [
    "from pynq import Overlay, allocate\n",
    "from time import perf_counter_ns\n",
    "import matplotlib.pyplot as plt\n",
    "import numpy as np\n",
    "import cv2 as cv\n",
    "from typing import Final\n",
    "from enum import IntEnum"
   ]
  },
  {
   "cell_type": "code",
   "execution_count": null,
   "id": "4a5f5e3ba826dfba",
   "metadata": {},
   "outputs": [],
   "source": [
    "VERSION: Final[int] = 4\n",
    "\n",
    "overlay = Overlay(F'Version{VERSION}.bit')\n",
    "lif_ip = overlay.LinearImageFilter"
   ]
  },
  {
   "cell_type": "code",
   "execution_count": null,
   "id": "50900bdff7c16361",
   "metadata": {},
   "outputs": [],
   "source": [
    "def get_median_filter(size: int) -> np.ndarray:\n",
    "    \n",
    "    if size % 2 == 0:\n",
    "        raise ValueError(F'Kernel size must be odd. {size} is even.')\n",
    "    \n",
    "    kernel: Final[np.ndarray] = np.ones((size, size), dtype=np.float32) / (size * size)\n",
    "    return kernel.flatten()"
   ]
  },
  {
   "cell_type": "code",
   "execution_count": null,
   "id": "ab1365080b28a927",
   "metadata": {},
   "outputs": [],
   "source": [
    "class Padding(IntEnum):\n",
    "    EDGE = 0x01\n",
    "    REFLECT = 0x02\n",
    "    ZEROS = 0x04"
   ]
  },
  {
   "cell_type": "code",
   "execution_count": null,
   "id": "d939c1ebb5b30111",
   "metadata": {},
   "outputs": [],
   "source": [
    "CONTROL: Final[int] = 0x00\n",
    "\n",
    "IMAGE_OUT: Final[int] = 0x10\n",
    "IMAGE_IN: Final[int] = 0x18\n",
    "KERNEL: Final[int] = 0x30\n",
    "\n",
    "ROWS: Final[int] = 0x20\n",
    "COLS: Final[int] = 0x28\n",
    "KERNEL_SIZE: Final[int] = 0x38\n",
    "\n",
    "STRIDE_ROW: Final[int] = 0x40\n",
    "STRIDE_COL: Final[int] = 0x48\n",
    "\n",
    "PADDING: Final[int] = 0x50"
   ]
  },
  {
   "cell_type": "code",
   "execution_count": null,
   "id": "f9e02d0d5abd1fbe",
   "metadata": {},
   "outputs": [],
   "source": [
    "image_path: Final[str] = 'lena.tif'\n",
    "image: Final = cv.cvtColor(cv.imread(image_path), cv.COLOR_BGR2RGB)"
   ]
  },
  {
   "cell_type": "code",
   "execution_count": null,
   "id": "3c71f182ff05851d",
   "metadata": {},
   "outputs": [],
   "source": [
    "grey_image: Final = cv.cvtColor(image, cv.COLOR_RGB2GRAY)\n",
    "rows, cols = grey_image.shape"
   ]
  },
  {
   "cell_type": "code",
   "execution_count": null,
   "id": "a9dd077ca0421575",
   "metadata": {},
   "outputs": [],
   "source": [
    "flat_image: Final = grey_image.flatten().astype(np.float32) / 255.0"
   ]
  },
  {
   "cell_type": "code",
   "execution_count": null,
   "id": "270e90d41edd83c5",
   "metadata": {},
   "outputs": [],
   "source": [
    "KERNEL_DIM: Final[int] = 5\n",
    "\n",
    "median_kernel: Final[np.ndarray] = get_median_filter(KERNEL_DIM)"
   ]
  },
  {
   "cell_type": "code",
   "execution_count": null,
   "id": "4fac451100a8a25a",
   "metadata": {},
   "outputs": [],
   "source": [
    "image_in: Final = allocate(shape=flat_image.shape, dtype=np.float32, cacheable=0)\n",
    "image_out: Final = allocate(shape=flat_image.shape, dtype=np.float32, cacheable=0)\n",
    "kernel: Final = allocate(shape=median_kernel.shape, dtype=np.float32, cacheable=0)"
   ]
  },
  {
   "cell_type": "code",
   "execution_count": null,
   "id": "2d62432b07b8dbd1",
   "metadata": {},
   "outputs": [],
   "source": [
    "image_in[:] = flat_image\n",
    "kernel[:] = median_kernel\n",
    "\n",
    "lif_ip.write(IMAGE_IN, image_in.physical_address)\n",
    "lif_ip.write(IMAGE_OUT, image_out.physical_address)\n",
    "lif_ip.write(KERNEL, kernel.physical_address)\n",
    "\n",
    "lif_ip.write(ROWS, rows)\n",
    "lif_ip.write(COLS, cols)\n",
    "lif_ip.write(KERNEL_SIZE, KERNEL_DIM)\n",
    "\n",
    "lif_ip.write(STRIDE_ROW, 1)\n",
    "lif_ip.write(STRIDE_COL, 1)\n",
    "\n",
    "lif_ip.write(PADDING, Padding.ZEROS.value)"
   ]
  },
  {
   "cell_type": "code",
   "execution_count": null,
   "id": "4288978c7eb0de41",
   "metadata": {},
   "outputs": [],
   "source": [
    "start = perf_counter_ns()\n",
    "\n",
    "lif_ip.write(CONTROL, (1 << 0))\n",
    "while lif_ip.read(CONTROL) != (1 << 2):\n",
    "    pass\n",
    "\n",
    "stop = perf_counter_ns()\n",
    "\n",
    "print(F'Elapsed time: {(stop - start) / 1e6} ms')"
   ]
  },
  {
   "cell_type": "code",
   "execution_count": null,
   "id": "1e2eec99d8505f9f",
   "metadata": {},
   "outputs": [],
   "source": [
    "filtered_flat_image: Final[np.ndarray] = image_out\n",
    "\n",
    "filtered_image: Final[np.ndarray] = (filtered_flat_image.reshape((rows, cols)) * 255.0).astype(np.uint8)\n",
    "\n",
    "cv.imwrite('result.png', filtered_image)"
   ]
  }
 ],
 "metadata": {
  "kernelspec": {
   "display_name": "Python 3 (ipykernel)",
   "language": "python",
   "name": "python3"
  },
  "language_info": {
   "codemirror_mode": {
    "name": "ipython",
    "version": 3
   },
   "file_extension": ".py",
   "mimetype": "text/x-python",
   "name": "python",
   "nbconvert_exporter": "python",
   "pygments_lexer": "ipython3",
   "version": "3.10.4"
  }
 },
 "nbformat": 4,
 "nbformat_minor": 5
}
