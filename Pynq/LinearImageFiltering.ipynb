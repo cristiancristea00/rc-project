{
 "cells": [
  {
   "cell_type": "code",
   "execution_count": null,
   "id": "initial_id",
   "metadata": {},
   "outputs": [],
   "source": [
    "from pynq import Overlay, allocate\n",
    "from time import perf_counter_ns\n",
    "import matplotlib.pyplot as plt\n",
    "import numpy as np\n",
    "import cv2 as cv\n",
    "from typing import Final\n",
    "from enum import IntEnum\n",
    "from pathlib import Path"
   ]
  },
  {
   "cell_type": "code",
   "execution_count": null,
   "id": "4b8203c2",
   "metadata": {},
   "outputs": [],
   "source": [
    "VERSIONS: Final[tuple[int, ...]] = (1, 2, 3, 4, 5)\n",
    "KERNEL_SIZES: Final[tuple[int, ...]] = (3, 5, 7, 9, 11)"
   ]
  },
  {
   "cell_type": "code",
   "execution_count": null,
   "id": "501ecf84",
   "metadata": {},
   "outputs": [],
   "source": [
    "def get_median_filter(size: int) -> np.ndarray:\n",
    "    if size % 2 == 0:\n",
    "        raise ValueError(F'Kernel size must be odd. {size} is even.')\n",
    "\n",
    "    kernel: Final[np.ndarray] = np.ones((size, size), dtype=np.float32) / (size * size)\n",
    "    return kernel.flatten()"
   ]
  },
  {
   "cell_type": "code",
   "execution_count": null,
   "id": "30d12e9e",
   "metadata": {},
   "outputs": [],
   "source": [
    "CONTROL: Final[int] = 0x00\n",
    "\n",
    "IMAGE_OUT: Final[int] = 0x10\n",
    "IMAGE_IN: Final[int] = 0x18\n",
    "KERNEL: Final[int] = 0x30\n",
    "\n",
    "ROWS: Final[int] = 0x20\n",
    "COLS: Final[int] = 0x28\n",
    "KERNEL_SIZE: Final[int] = 0x38\n",
    "\n",
    "STRIDE_ROW: Final[int] = 0x40\n",
    "STRIDE_COL: Final[int] = 0x48\n",
    "\n",
    "PADDING: Final[int] = 0x50"
   ]
  },
  {
   "cell_type": "code",
   "execution_count": null,
   "id": "4d290014",
   "metadata": {},
   "outputs": [],
   "source": [
    "class Padding(IntEnum):\n",
    "    EDGE = 0x01\n",
    "    REFLECT = 0x02\n",
    "    ZEROS = 0x04"
   ]
  },
  {
   "cell_type": "code",
   "execution_count": null,
   "id": "2057281e",
   "metadata": {},
   "outputs": [],
   "source": [
    "image_path: Final[Path] = Path('/home/xilinx/jupyter_notebooks/LinearImageFiltering/test.jpeg').resolve()\n",
    "image: Final[np.ndarray] = cv.cvtColor(cv.imread(str(image_path)), cv.COLOR_BGR2RGB)\n",
    "\n",
    "grey_image: Final[np.ndarray] = cv.cvtColor(image, cv.COLOR_RGB2GRAY)\n",
    "rows, cols = grey_image.shape\n",
    "\n",
    "flat_image: Final[np.ndarray] = grey_image.flatten().astype(np.float32) / 255.0\n",
    "\n",
    "combined: Final[np.ndarray] = np.hstack((image, cv.cvtColor(grey_image, cv.COLOR_GRAY2RGB)))"
   ]
  },
  {
   "cell_type": "code",
   "execution_count": null,
   "id": "1e1f083f",
   "metadata": {},
   "outputs": [],
   "source": [
    "plt.figure(figsize=(15, 15))\n",
    "plt.axis('off')\n",
    "plt.imshow(combined);"
   ]
  },
  {
   "cell_type": "code",
   "execution_count": null,
   "id": "a5fc2bd4",
   "metadata": {},
   "outputs": [],
   "source": [
    "for version in VERSIONS:\n",
    "    path = Path(F'/home/xilinx/jupyter_notebooks/LinearImageFiltering/Version{version}/LinearImageFilter.bit').resolve()\n",
    "\n",
    "    if not path.exists():\n",
    "        raise FileNotFoundError(F'Version {version} bitstream not found.')\n",
    "\n",
    "    print(F'Running version {version}...')\n",
    "\n",
    "    for kernel_size in KERNEL_SIZES:\n",
    "        # The bitstream is loaded into the PL for every test to ensure consistent results\n",
    "        overlay = Overlay(str(path))\n",
    "        ip = overlay.LinearImageFilter\n",
    "\n",
    "        image_in: Final = allocate(shape=flat_image.shape, dtype=np.float32)\n",
    "        image_out: Final = allocate(shape=flat_image.shape, dtype=np.float32)\n",
    "\n",
    "        image_in[:] = flat_image\n",
    "        image_in.sync_to_device()\n",
    "\n",
    "        median_kernel: Final[np.ndarray] = get_median_filter(kernel_size)\n",
    "        kernel: Final = allocate(shape=median_kernel.shape, dtype=np.float32)\n",
    "        kernel[:] = median_kernel\n",
    "        kernel.sync_to_device()\n",
    "\n",
    "        ip.write(IMAGE_IN, image_in.physical_address)\n",
    "        ip.write(IMAGE_OUT, image_out.physical_address)\n",
    "        ip.write(KERNEL, kernel.physical_address)\n",
    "\n",
    "        ip.write(ROWS, rows)\n",
    "        ip.write(COLS, cols)\n",
    "        ip.write(KERNEL_SIZE, kernel_size)\n",
    "\n",
    "        ip.write(STRIDE_ROW, 1)\n",
    "        ip.write(STRIDE_COL, 1)\n",
    "\n",
    "        ip.write(PADDING, Padding.REFLECT.value)\n",
    "\n",
    "        print(F'Linear Filter with kernel size {kernel_size}: ', end='')\n",
    "        start = perf_counter_ns()\n",
    "\n",
    "        ip.write(CONTROL, (1 << 0))\n",
    "        while ip.read(CONTROL) != (1 << 2):\n",
    "            pass\n",
    "\n",
    "        stop = perf_counter_ns()\n",
    "\n",
    "        elapsed_ms = (stop - start) / 1e6\n",
    "        print(F'{elapsed_ms} ms')\n",
    "\n",
    "        image_out.sync_from_device()\n",
    "        filtered_flat_image: Final[np.ndarray] = image_out\n",
    "        filtered_image: Final[np.ndarray] = (filtered_flat_image.reshape((rows, cols)) * 255.0).astype(np.uint8)\n",
    "\n",
    "        image_out.freebuffer()\n",
    "        image_in.freebuffer()\n",
    "        kernel.freebuffer()"
   ]
  }
 ],
 "metadata": {
  "kernelspec": {
   "display_name": "Python 3 (ipykernel)",
   "language": "python",
   "name": "python3"
  }
 },
 "nbformat": 4,
 "nbformat_minor": 5
}
